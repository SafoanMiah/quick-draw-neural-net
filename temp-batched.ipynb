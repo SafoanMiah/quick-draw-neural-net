{
 "cells": [
  {
   "cell_type": "code",
   "execution_count": 1,
   "metadata": {},
   "outputs": [],
   "source": [
    "import torch\n",
    "import pickle\n",
    "import os\n",
    "import numpy as np\n",
    "from tqdm import tqdm\n",
    "\n",
    "from utils.model_train import train\n",
    "\n",
    "from utils.processing import load_data, augment_data, to_tensors, split_batch, process_data, incremental_save\n",
    "from utils.quickdraw_cnn import QuickDrawCNN_V1, QuickDrawCNN_V2"
   ]
  },
  {
   "cell_type": "code",
   "execution_count": 12,
   "metadata": {},
   "outputs": [
    {
     "name": "stdout",
     "output_type": "stream",
     "text": [
      "Device: cpu\n"
     ]
    }
   ],
   "source": [
    "device = torch.device(\"cuda\" if torch.cuda.is_available() else \"cpu\")\n",
    "print(f\"Device: {device}\")\n",
    "\n",
    "image_dir = \"data/numpy_bitmap/\"\n",
    "categories = os.listdir(image_dir)"
   ]
  },
  {
   "cell_type": "code",
   "execution_count": 23,
   "metadata": {},
   "outputs": [
    {
     "data": {
      "text/plain": [
       "['aircraft_carrier.npy',\n",
       " 'alarm_clock.npy',\n",
       " 'angel.npy',\n",
       " 'bandage.npy',\n",
       " 'beach.npy',\n",
       " 'boomerang.npy',\n",
       " 'bracelet.npy']"
      ]
     },
     "execution_count": 23,
     "metadata": {},
     "output_type": "execute_result"
    }
   ],
   "source": [
    "categories"
   ]
  },
  {
   "cell_type": "code",
   "execution_count": 28,
   "metadata": {},
   "outputs": [
    {
     "name": "stderr",
     "output_type": "stream",
     "text": [
      "Processing categories: 100%|██████████| 7/7 [00:00<?, ?it/s]"
     ]
    },
    {
     "name": "stdout",
     "output_type": "stream",
     "text": [
      "aircraft_carrier.npy\n",
      "alarm_clock.npy\n",
      "angel.npy\n",
      "bandage.npy\n",
      "beach.npy\n",
      "boomerang.npy\n",
      "bracelet.npy\n"
     ]
    },
    {
     "name": "stderr",
     "output_type": "stream",
     "text": [
      "\n"
     ]
    }
   ],
   "source": [
    "def full_pipeline(image_dir, categories):\n",
    "    \n",
    "    labels_map = {label: i for i, label in enumerate(set(categories))}\n",
    "    \n",
    "    for cat in tqdm(categories, desc=\"Processing categories\"):\n",
    "        #load pecific data in \n",
    "        print(cat)\n",
    "        \n",
    "full_pipeline(image_dir, categories)"
   ]
  }
 ],
 "metadata": {
  "kernelspec": {
   "display_name": "Python 3",
   "language": "python",
   "name": "python3"
  },
  "language_info": {
   "codemirror_mode": {
    "name": "ipython",
    "version": 3
   },
   "file_extension": ".py",
   "mimetype": "text/x-python",
   "name": "python",
   "nbconvert_exporter": "python",
   "pygments_lexer": "ipython3",
   "version": "3.12.8"
  }
 },
 "nbformat": 4,
 "nbformat_minor": 2
}
