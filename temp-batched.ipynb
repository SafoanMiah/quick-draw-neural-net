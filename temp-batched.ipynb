{
 "cells": [
  {
   "cell_type": "code",
   "execution_count": 1,
   "metadata": {},
   "outputs": [],
   "source": [
    "import torch\n",
    "import os\n",
    "import pickle\n",
    "from tqdm import tqdm\n",
    "from torch.utils.data import DataLoader, ConcatDataset\n",
    "\n",
    "from utils.model_train import train\n",
    "from utils.processing import load_data, process_data, augment_data, to_tensors, split_batch, incremental_save\n",
    "from utils.quickdraw_cnn import QuickDrawCNN_V1, QuickDrawCNN_V2"
   ]
  },
  {
   "cell_type": "code",
   "execution_count": 2,
   "metadata": {},
   "outputs": [],
   "source": [
    "image_dir = \"data/numpy_bitmap/\"\n",
    "categories = os.listdir(image_dir)\n",
    "device = torch.device(\"cuda\" if torch.cuda.is_available() else \"cpu\")\n",
    "labels_map = {label: i for i, label in enumerate(set(categories))}"
   ]
  },
  {
   "cell_type": "code",
   "execution_count": 3,
   "metadata": {},
   "outputs": [],
   "source": [
    "def create_dataloaders(train_datasets, test_datasets, val_datasets, batch_size=64):\n",
    "    train_loader = DataLoader(ConcatDataset(train_datasets), batch_size=batch_size, shuffle=True)\n",
    "    test_loader = DataLoader(ConcatDataset(test_datasets), batch_size=batch_size, shuffle=False)\n",
    "    val_loader = DataLoader(ConcatDataset(val_datasets), batch_size=batch_size, shuffle=False)\n",
    "    \n",
    "    return train_loader, test_loader, val_loader\n",
    "\n",
    "\n",
    "def pipeline(image_dir: str, categories: list, device: torch.device, labels_map: dict):\n",
    "    train_datasets, test_datasets, val_datasets = [], [], []\n",
    "\n",
    "    for cat in tqdm(categories, desc=\"Processing categories\"):\n",
    "        # Load, process, augment, and split the data\n",
    "        features, label = load_data(image_dir, cat, file_standardize=False)\n",
    "        features, label = process_data(features, label)\n",
    "        features, label = augment_data(features, label, rot=0, h_flip=False, v_flip=False)\n",
    "        features, labels = to_tensors(features, label, labels_map, device=device)\n",
    "\n",
    "        # Split the data into train, test, and validation sets\n",
    "        train_loader, test_loader, val_loader = split_batch(features, labels, batch_size=64)\n",
    "        train_datasets.append(train_loader.dataset)\n",
    "        test_datasets.append(test_loader.dataset)\n",
    "        val_datasets.append(val_loader.dataset)\n",
    "\n",
    "    # Use the helper function to create the dataloaders\n",
    "    train_loader, test_loader, val_loader = create_dataloaders(\n",
    "        train_datasets, test_datasets, val_datasets, batch_size=64\n",
    "    )\n",
    "    \n",
    "    return train_loader, test_loader, val_loader\n"
   ]
  },
  {
   "cell_type": "code",
   "execution_count": 4,
   "metadata": {},
   "outputs": [
    {
     "name": "stderr",
     "output_type": "stream",
     "text": [
      "Processing categories: 100%|██████████| 2/2 [00:00<00:00,  7.69it/s]\n"
     ]
    }
   ],
   "source": [
    "train_loader, test_loader, val_loader = pipeline(image_dir, categories, device, labels_map)"
   ]
  },
  {
   "cell_type": "code",
   "execution_count": 5,
   "metadata": {},
   "outputs": [],
   "source": [
    "model = QuickDrawCNN_V2().to(device)\n",
    "criterion = torch.nn.CrossEntropyLoss()\n",
    "optimizer = torch.optim.Adam(model.parameters(), lr=0.001)"
   ]
  },
  {
   "cell_type": "code",
   "execution_count": 6,
   "metadata": {},
   "outputs": [
    {
     "name": "stdout",
     "output_type": "stream",
     "text": [
      "\n",
      "Epoch 1/10\n"
     ]
    },
    {
     "name": "stderr",
     "output_type": "stream",
     "text": [
      "Training: 100%|██████████| 3121/3121 [00:10<00:00, 301.15batch/s, acc=97.2, loss=0.0343]\n",
      "Validating: 100%|██████████| 391/391 [00:00<00:00, 603.07batch/s, acc=100, loss=5.66e-5]\n"
     ]
    },
    {
     "name": "stdout",
     "output_type": "stream",
     "text": [
      "\n",
      "Epoch: 1 | Train Loss: 0.07184 | Train Acc: 97.47% | Val Loss: 0.04996 | Val Acc: 98.17%\n",
      "\n",
      "Epoch 2/10\n"
     ]
    },
    {
     "name": "stderr",
     "output_type": "stream",
     "text": [
      "Training: 100%|██████████| 3121/3121 [00:10<00:00, 296.92batch/s, acc=88.9, loss=0.125]  \n",
      "Validating: 100%|██████████| 391/391 [00:00<00:00, 614.43batch/s, acc=100, loss=2.68e-7] \n"
     ]
    },
    {
     "name": "stdout",
     "output_type": "stream",
     "text": [
      "\n",
      "Epoch: 2 | Train Loss: 0.04642 | Train Acc: 98.29% | Val Loss: 0.05436 | Val Acc: 98.05%\n",
      "\n",
      "Epoch 3/10\n"
     ]
    },
    {
     "name": "stderr",
     "output_type": "stream",
     "text": [
      "Training: 100%|██████████| 3121/3121 [00:10<00:00, 289.41batch/s, acc=97.2, loss=0.103]  \n",
      "Validating: 100%|██████████| 391/391 [00:00<00:00, 610.72batch/s, acc=100, loss=1.16e-6] "
     ]
    },
    {
     "name": "stdout",
     "output_type": "stream",
     "text": [
      "\n",
      "Epoch: 3 | Train Loss: 0.03969 | Train Acc: 98.51% | Val Loss: 0.05468 | Val Acc: 98.00%\n",
      "Early stopping at epoch 3\n"
     ]
    },
    {
     "name": "stderr",
     "output_type": "stream",
     "text": [
      "\n"
     ]
    }
   ],
   "source": [
    "try:\n",
    "    train_loss, val_loss, train_acc, val_acc = train(model=model,\n",
    "                                                     train_loader=train_loader,\n",
    "                                                     val_loader=val_loader,\n",
    "                                                     epochs=10,\n",
    "                                                     criterion=criterion,\n",
    "                                                     optimizer=optimizer,\n",
    "                                                     device=device)\n",
    "except KeyboardInterrupt:\n",
    "    print(\"Training interrupted manually. Saving current model state...\")\n",
    "    torch.save(model.state_dict(), \"model_state.pth\")\n",
    "    print(\"Model state saved.\")"
   ]
  },
  {
   "cell_type": "code",
   "execution_count": 7,
   "metadata": {},
   "outputs": [
    {
     "name": "stdout",
     "output_type": "stream",
     "text": [
      "Path: saves/vars.0.pth\n",
      "Saved to saves/model.0.pth.\n"
     ]
    }
   ],
   "source": [
    "parent_path = 'saves'\n",
    "model_path = f'{parent_path}/model'\n",
    "var_path = f'{parent_path}/vars'\n",
    "\n",
    "varaibles_saved = incremental_save(var_path)\n",
    "with open(varaibles_saved, \"wb\") as f:\n",
    "    pickle.dump(labels_map, f)\n",
    "    pickle.dump(train_loss, f)\n",
    "    pickle.dump(val_loss, f)\n",
    "    pickle.dump(train_acc, f)\n",
    "    pickle.dump(val_acc, f)\n",
    "\n",
    "model_saved = incremental_save(model_path, data=model)"
   ]
  }
 ],
 "metadata": {
  "kernelspec": {
   "display_name": "Python 3",
   "language": "python",
   "name": "python3"
  },
  "language_info": {
   "codemirror_mode": {
    "name": "ipython",
    "version": 3
   },
   "file_extension": ".py",
   "mimetype": "text/x-python",
   "name": "python",
   "nbconvert_exporter": "python",
   "pygments_lexer": "ipython3",
   "version": "3.12.8"
  }
 },
 "nbformat": 4,
 "nbformat_minor": 2
}
