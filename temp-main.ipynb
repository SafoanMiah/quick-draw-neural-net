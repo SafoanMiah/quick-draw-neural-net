{
 "cells": [
  {
   "cell_type": "markdown",
   "metadata": {},
   "source": [
    "### Temp - Will be convereted into main.py once complete\n",
    "Currently being used for testing"
   ]
  },
  {
   "cell_type": "code",
   "execution_count": 1,
   "metadata": {},
   "outputs": [],
   "source": [
    "import torch\n",
    "import pickle\n",
    "import pandas as pd\n",
    "import os\n",
    "\n",
    "from data.process_data import load_data, augment_data, preprocess_data, to_tensors, split_batch\n",
    "from models.quickdraw_cnn import QuickDrawCNN_V1, QuickDrawCNN_V2\n",
    "from training.model_train import train"
   ]
  },
  {
   "cell_type": "code",
   "execution_count": 2,
   "metadata": {},
   "outputs": [
    {
     "name": "stdout",
     "output_type": "stream",
     "text": [
      "Device: cuda\n"
     ]
    }
   ],
   "source": [
    "device = torch.device(\"cuda\" if torch.cuda.is_available() else \"cpu\")\n",
    "print(f\"Device: {device}\")\n",
    "image_dir = \"data/numpy_bitmap/\""
   ]
  },
  {
   "cell_type": "code",
   "execution_count": 3,
   "metadata": {},
   "outputs": [],
   "source": [
    "categories = os.listdir(image_dir)\n",
    "p1, p2 = categories[:len(categories)//2], categories[len(categories)//2:]"
   ]
  },
  {
   "cell_type": "code",
   "execution_count": 4,
   "metadata": {},
   "outputs": [
    {
     "name": "stdout",
     "output_type": "stream",
     "text": [
      "Loading 172 categories...\n"
     ]
    },
    {
     "name": "stderr",
     "output_type": "stream",
     "text": [
      "Loading data: 100%|██████████| 172/172 [07:33<00:00,  2.64s/it]\n"
     ]
    },
    {
     "name": "stdout",
     "output_type": "stream",
     "text": [
      "Data loaded, size: (25234905, 785)\n",
      "Loading 173 categories...\n"
     ]
    },
    {
     "name": "stderr",
     "output_type": "stream",
     "text": [
      "Loading data: 100%|██████████| 173/173 [07:37<00:00,  2.65s/it]\n"
     ]
    },
    {
     "name": "stdout",
     "output_type": "stream",
     "text": [
      "Data loaded, size: (25191361, 785)\n"
     ]
    }
   ],
   "source": [
    "bmap_p1 = load_data(p1, image_dir, file_standardize=False)\n",
    "bmap_p2 = load_data(p2, image_dir, file_standardize=False)"
   ]
  },
  {
   "cell_type": "code",
   "execution_count": null,
   "metadata": {},
   "outputs": [
    {
     "name": "stdout",
     "output_type": "stream",
     "text": [
      "Preprocessing 25234905 images...\n"
     ]
    },
    {
     "name": "stderr",
     "output_type": "stream",
     "text": [
      "  0%|          | 94511/25234905 [00:00<00:26, 937650.92it/s]"
     ]
    },
    {
     "name": "stderr",
     "output_type": "stream",
     "text": [
      "100%|██████████| 25234905/25234905 [00:12<00:00, 2088320.98it/s]\n",
      "0it [05:24, ?it/s]\n"
     ]
    },
    {
     "name": "stdout",
     "output_type": "stream",
     "text": [
      "Preprocessing 25191361 images...\n"
     ]
    },
    {
     "name": "stderr",
     "output_type": "stream",
     "text": [
      "100%|██████████| 25191361/25191361 [00:13<00:00, 1828331.72it/s]\n",
      "0it [01:59, ?it/s]"
     ]
    }
   ],
   "source": [
    "# Preprocessing data split array -> 28x28 numpy\n",
    "bmap_p1 = preprocess_data(bmap_p1)\n",
    "bmap_p2 = preprocess_data(bmap_p2)"
   ]
  },
  {
   "cell_type": "code",
   "execution_count": null,
   "metadata": {},
   "outputs": [],
   "source": [
    "features, labels, labels_map = to_tensors(bmap_p1.copy())\n",
    "features, labels, labels_map = to_tensors(bmap_p2.copy())\n",
    "bmap_p1 = list(zip(features, labels))\n",
    "bmap_p2 = list(zip(features, labels))"
   ]
  },
  {
   "cell_type": "code",
   "execution_count": null,
   "metadata": {},
   "outputs": [],
   "source": [
    "bmap_p1_1, bmap_p1_2 = bmap_p1[:len(bmap_p1) // 2], bmap_p1[len(bmap_p1) // 2:]\n",
    "bamp_p2_1, bamp_p2_2 = bmap_p2[:len(bmap_p2) // 2], bmap_p1[len(bmap_p2) // 2:]\n",
    "\n",
    "bmap_xl_p1_1 = augment_data(bmap_p1, rot=True, angle=15, h_flip=False)\n",
    "bmap_xl_p1_2 = augment_data(bmap_p1, rot=True, angle=15, h_flip=False)\n",
    "bmap_xl_p2_1 = augment_data(bmap_p2, rot=True, angle=15, h_flip=False)"
   ]
  },
  {
   "cell_type": "code",
   "execution_count": null,
   "metadata": {},
   "outputs": [],
   "source": [
    "train_loader, test_loader, val_loader = split_batch(bmap, batch_size=64)"
   ]
  },
  {
   "cell_type": "code",
   "execution_count": null,
   "metadata": {},
   "outputs": [],
   "source": [
    "model = QuickDrawCNN_V2().to(device)\n",
    "criterion = torch.nn.CrossEntropyLoss()\n",
    "optimizer = torch.optim.Adam(model.parameters(), lr=0.001)"
   ]
  },
  {
   "cell_type": "code",
   "execution_count": null,
   "metadata": {},
   "outputs": [],
   "source": [
    "train_loss, val_loss, train_acc, val_acc = train(model = model,\n",
    "                                                  train_loader = train_loader,\n",
    "                                                  val_loader = val_loader,\n",
    "                                                  epochs = 10,\n",
    "                                                  criterion = criterion,\n",
    "                                                  optimizer = optimizer,\n",
    "                                                  device = device)   "
   ]
  },
  {
   "cell_type": "code",
   "execution_count": null,
   "metadata": {},
   "outputs": [],
   "source": [
    "save_path = \"models/quickdraw_cnn_v2.pth\"\n",
    "torch.save(model.state_dict(), save_path)\n",
    "print(f\"Model saved to {save_path}.\")"
   ]
  },
  {
   "cell_type": "code",
   "execution_count": null,
   "metadata": {},
   "outputs": [],
   "source": [
    "with open(\"models/labels_map.pkl\", \"wb\") as f:\n",
    "    pickle.dump(labels_map, f)\n",
    "    pickle.dump(train_loss, f)\n",
    "    pickle.dump(val_loss, f)\n",
    "    pickle.dump(train_acc, f)\n",
    "    pickle.dump(val_acc, f)"
   ]
  }
 ],
 "metadata": {
  "kernelspec": {
   "display_name": "Python 3",
   "language": "python",
   "name": "python3"
  },
  "language_info": {
   "codemirror_mode": {
    "name": "ipython",
    "version": 3
   },
   "file_extension": ".py",
   "mimetype": "text/x-python",
   "name": "python",
   "nbconvert_exporter": "python",
   "pygments_lexer": "ipython3",
   "version": "3.12.8"
  }
 },
 "nbformat": 4,
 "nbformat_minor": 2
}
