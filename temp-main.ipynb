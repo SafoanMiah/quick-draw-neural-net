{
 "cells": [
  {
   "cell_type": "markdown",
   "metadata": {},
   "source": [
    "### Temp - Will be convereted into main.py once complete\n",
    "Currently being used for testing"
   ]
  },
  {
   "cell_type": "code",
   "execution_count": 1,
   "metadata": {},
   "outputs": [],
   "source": [
    "import torch\n",
    "import pickle\n",
    "import os\n",
    "import numpy as np\n",
    "\n",
    "from data.process_data import load_data, augment_data, preprocess_data, to_tensors, split_batch\n",
    "from models.quickdraw_cnn import QuickDrawCNN_V1, QuickDrawCNN_V2\n",
    "from training.model_train import train"
   ]
  },
  {
   "cell_type": "code",
   "execution_count": 2,
   "metadata": {},
   "outputs": [
    {
     "name": "stdout",
     "output_type": "stream",
     "text": [
      "Device: cpu\n"
     ]
    }
   ],
   "source": [
    "device = torch.device(\"cuda\" if torch.cuda.is_available() else \"cpu\")\n",
    "print(f\"Device: {device}\")\n",
    "image_dir = \"data/numpy_bitmap/\""
   ]
  },
  {
   "cell_type": "code",
   "execution_count": 3,
   "metadata": {},
   "outputs": [
    {
     "ename": "FileNotFoundError",
     "evalue": "[WinError 3] The system cannot find the path specified: 'data/numpy_bitmap/'",
     "output_type": "error",
     "traceback": [
      "\u001b[1;31m---------------------------------------------------------------------------\u001b[0m",
      "\u001b[1;31mFileNotFoundError\u001b[0m                         Traceback (most recent call last)",
      "Cell \u001b[1;32mIn[3], line 1\u001b[0m\n\u001b[1;32m----> 1\u001b[0m categories \u001b[38;5;241m=\u001b[39m \u001b[43mos\u001b[49m\u001b[38;5;241;43m.\u001b[39;49m\u001b[43mlistdir\u001b[49m\u001b[43m(\u001b[49m\u001b[43mimage_dir\u001b[49m\u001b[43m)\u001b[49m\n\u001b[0;32m      2\u001b[0m p1, p2 \u001b[38;5;241m=\u001b[39m categories[:\u001b[38;5;28mlen\u001b[39m(categories)\u001b[38;5;241m/\u001b[39m\u001b[38;5;241m/\u001b[39m\u001b[38;5;241m2\u001b[39m], categories[\u001b[38;5;28mlen\u001b[39m(categories)\u001b[38;5;241m/\u001b[39m\u001b[38;5;241m/\u001b[39m\u001b[38;5;241m2\u001b[39m:]\n",
      "\u001b[1;31mFileNotFoundError\u001b[0m: [WinError 3] The system cannot find the path specified: 'data/numpy_bitmap/'"
     ]
    }
   ],
   "source": [
    "categories = os.listdir(image_dir)\n",
    "p1, p2 = categories[:len(categories)//2], categories[len(categories)//2:]"
   ]
  },
  {
   "cell_type": "code",
   "execution_count": null,
   "metadata": {},
   "outputs": [],
   "source": [
    "features_p1, labels_p1 = load_data(p1, image_dir, file_standardize=False, sample=3)\n",
    "features_p2, labels_p2 = load_data(p2, image_dir, file_standardize=False, sample=3)"
   ]
  },
  {
   "cell_type": "code",
   "execution_count": null,
   "metadata": {},
   "outputs": [],
   "source": [
    "#combine\n",
    "features = np.concatenate((features_p1, features_p2), axis=0)\n",
    "labels = np.concatenate((labels_p1, labels_p2), axis=0)\n",
    "\n",
    "assert len(features_p1) == len(labels_p1)\n",
    "mask = np.random.rand(len(features)) >= 0.3 # mask for datast, 40% are True\n",
    "\n",
    "# keeping masked data\n",
    "features_reduced = features[mask]\n",
    "labels_reduced = labels[mask]\n",
    "\n",
    "print(f\"Original size: {len(features)}, Reduced size: {len(features_reduced)}\")"
   ]
  },
  {
   "cell_type": "code",
   "execution_count": 17,
   "metadata": {},
   "outputs": [
    {
     "name": "stdout",
     "output_type": "stream",
     "text": [
      "Preprocessing 172 images...\n"
     ]
    },
    {
     "name": "stderr",
     "output_type": "stream",
     "text": [
      "Processing labels: 100%|██████████| 172/172 [00:00<00:00, 19804.00it/s]\n"
     ]
    },
    {
     "name": "stdout",
     "output_type": "stream",
     "text": [
      "Preprocessing 173 images...\n"
     ]
    },
    {
     "name": "stderr",
     "output_type": "stream",
     "text": [
      "Processing labels: 100%|██████████| 173/173 [00:00<00:00, 110950.24it/s]\n"
     ]
    }
   ],
   "source": [
    "# Preprocessing data split array -> 28x28 numpy\n",
    "features_p1, labels_p1 = preprocess_data(features_p1, labels_p1)\n",
    "features_p2, labels_p2 = preprocess_data(features_p2, labels_p2)"
   ]
  },
  {
   "cell_type": "code",
   "execution_count": null,
   "metadata": {},
   "outputs": [],
   "source": [
    "labels = labels_p1 + labels_p2\n",
    "label_map = {label: i for i, label in enumerate(set(labels))}\n",
    "\n",
    "features_p1, labels_p1 = to_tensors(features_p1, labels_p1, label_map, device)\n",
    "features_p2, labels_p2 = to_tensors(features_p2, labels_p2, label_map, device)"
   ]
  },
  {
   "cell_type": "code",
   "execution_count": 41,
   "metadata": {},
   "outputs": [
    {
     "name": "stdout",
     "output_type": "stream",
     "text": [
      "Starting size: (12617452, 28, 28)\n",
      "Flipping images horizontally...\n"
     ]
    },
    {
     "name": "stderr",
     "output_type": "stream",
     "text": [
      "Flipping images horizontally...: 100%|██████████| 12617452/12617452 [00:06<00:00, 2073612.49it/s]\n"
     ]
    },
    {
     "name": "stdout",
     "output_type": "stream",
     "text": [
      "Augmented size: (25234904, 28, 28)\n",
      "Starting size: (12617453, 28, 28)\n",
      "Flipping images horizontally...\n"
     ]
    },
    {
     "name": "stderr",
     "output_type": "stream",
     "text": [
      "Flipping images horizontally...: 100%|██████████| 12617453/12617453 [00:06<00:00, 2093258.78it/s]\n"
     ]
    },
    {
     "ename": "MemoryError",
     "evalue": "Unable to allocate 18.4 GiB for an array with shape (25234906, 28, 28) and data type uint8",
     "output_type": "error",
     "traceback": [
      "\u001b[1;31m---------------------------------------------------------------------------\u001b[0m",
      "\u001b[1;31mMemoryError\u001b[0m                               Traceback (most recent call last)",
      "Cell \u001b[1;32mIn[41], line 9\u001b[0m\n\u001b[0;32m      7\u001b[0m \u001b[38;5;66;03m# Augment data\u001b[39;00m\n\u001b[0;32m      8\u001b[0m features_p1_1, labels_p1_1 \u001b[38;5;241m=\u001b[39m augment_data(features_p1_1, labels_p1_1, rot\u001b[38;5;241m=\u001b[39m\u001b[38;5;241m0\u001b[39m, h_flip\u001b[38;5;241m=\u001b[39m\u001b[38;5;28;01mTrue\u001b[39;00m, v_flip\u001b[38;5;241m=\u001b[39m\u001b[38;5;28;01mFalse\u001b[39;00m)\n\u001b[1;32m----> 9\u001b[0m features_p1_2, labels_p1_2 \u001b[38;5;241m=\u001b[39m \u001b[43maugment_data\u001b[49m\u001b[43m(\u001b[49m\u001b[43mfeatures_p1_2\u001b[49m\u001b[43m,\u001b[49m\u001b[43m \u001b[49m\u001b[43mlabels_p1_2\u001b[49m\u001b[43m,\u001b[49m\u001b[43m \u001b[49m\u001b[43mrot\u001b[49m\u001b[38;5;241;43m=\u001b[39;49m\u001b[38;5;241;43m0\u001b[39;49m\u001b[43m,\u001b[49m\u001b[43m \u001b[49m\u001b[43mh_flip\u001b[49m\u001b[38;5;241;43m=\u001b[39;49m\u001b[38;5;28;43;01mTrue\u001b[39;49;00m\u001b[43m,\u001b[49m\u001b[43m \u001b[49m\u001b[43mv_flip\u001b[49m\u001b[38;5;241;43m=\u001b[39;49m\u001b[38;5;28;43;01mFalse\u001b[39;49;00m\u001b[43m)\u001b[49m\n\u001b[0;32m     10\u001b[0m features_p2_1, labels_p2_1 \u001b[38;5;241m=\u001b[39m augment_data(features_p2_1, labels_p2_1, rot\u001b[38;5;241m=\u001b[39m\u001b[38;5;241m0\u001b[39m, h_flip\u001b[38;5;241m=\u001b[39m\u001b[38;5;28;01mTrue\u001b[39;00m, v_flip\u001b[38;5;241m=\u001b[39m\u001b[38;5;28;01mFalse\u001b[39;00m)\n\u001b[0;32m     11\u001b[0m features_p2_2, labels_p2_2 \u001b[38;5;241m=\u001b[39m augment_data(features_p2_2, labels_p2_2, rot\u001b[38;5;241m=\u001b[39m\u001b[38;5;241m0\u001b[39m, h_flip\u001b[38;5;241m=\u001b[39m\u001b[38;5;28;01mTrue\u001b[39;00m, v_flip\u001b[38;5;241m=\u001b[39m\u001b[38;5;28;01mFalse\u001b[39;00m)\n",
      "File \u001b[1;32mf:\\Data Science Projects\\quick_draw\\data\\process_data.py:161\u001b[0m, in \u001b[0;36maugment_data\u001b[1;34m(features, labels, rot, angle, h_flip, v_flip)\u001b[0m\n\u001b[0;32m    158\u001b[0m     augmented_labels\u001b[38;5;241m.\u001b[39mappend(labels)\n\u001b[0;32m    160\u001b[0m augmented_features \u001b[38;5;241m=\u001b[39m np\u001b[38;5;241m.\u001b[39mconcatenate(augmented_features)\n\u001b[1;32m--> 161\u001b[0m augmented_labels \u001b[38;5;241m=\u001b[39m np\u001b[38;5;241m.\u001b[39mconcatenate(augmented_labels)\n\u001b[0;32m    163\u001b[0m \u001b[38;5;28mprint\u001b[39m(\u001b[38;5;124mf\u001b[39m\u001b[38;5;124m'\u001b[39m\u001b[38;5;124mAugmented size: \u001b[39m\u001b[38;5;132;01m{\u001b[39;00maugmented_features\u001b[38;5;241m.\u001b[39mshape\u001b[38;5;132;01m}\u001b[39;00m\u001b[38;5;124m'\u001b[39m)\n\u001b[0;32m    164\u001b[0m \u001b[38;5;28;01mreturn\u001b[39;00m augmented_features, augmented_labels\n",
      "\u001b[1;31mMemoryError\u001b[0m: Unable to allocate 18.4 GiB for an array with shape (25234906, 28, 28) and data type uint8"
     ]
    }
   ],
   "source": [
    "# Split further for memory\n",
    "features_p1_1, features_p1_2 = features_p1[:len(features_p1) // 2], features_p1[len(features_p1) // 2:]\n",
    "labels_p1_1, labels_p1_2 = labels_p1[:len(labels_p1) // 2], labels_p1[len(labels_p1) // 2:]\n",
    "features_p2_1, features_p2_2 = features_p2[:len(features_p2) // 2], features_p2[len(features_p2) // 2:]\n",
    "labels_p2_1, labels_p2_2 = labels_p2[:len(labels_p2) // 2], labels_p2[len(labels_p2) // 2:]\n",
    "\n",
    "# Augment data\n",
    "features_p1_1, labels_p1_1 = augment_data(features_p1_1, labels_p1_1, rot=0, h_flip=True, v_flip=False)\n",
    "features_p1_2, labels_p1_2 = augment_data(features_p1_2, labels_p1_2, rot=0, h_flip=True, v_flip=False)\n",
    "features_p2_1, labels_p2_1 = augment_data(features_p2_1, labels_p2_1, rot=0, h_flip=True, v_flip=False)\n",
    "features_p2_2, labels_p2_2 = augment_data(features_p2_2, labels_p2_2, rot=0, h_flip=True, v_flip=False)"
   ]
  },
  {
   "cell_type": "code",
   "execution_count": 15,
   "metadata": {},
   "outputs": [],
   "source": [
    "# Combine features and labels\n",
    "features = np.concatenate((features_p1_1, features_p1_2, features_p2_1, features_p2_2), axis=0)\n",
    "labels = np.concatenate((labels_p1_1, labels_p1_2, labels_p2_1, labels_p2_2), axis=0)"
   ]
  },
  {
   "cell_type": "code",
   "execution_count": 11,
   "metadata": {},
   "outputs": [
    {
     "ename": "TypeError",
     "evalue": "split_batch() got multiple values for argument 'batch_size'",
     "output_type": "error",
     "traceback": [
      "\u001b[1;31m---------------------------------------------------------------------------\u001b[0m",
      "\u001b[1;31mTypeError\u001b[0m                                 Traceback (most recent call last)",
      "Cell \u001b[1;32mIn[11], line 6\u001b[0m\n\u001b[0;32m      3\u001b[0m labels \u001b[38;5;241m=\u001b[39m np\u001b[38;5;241m.\u001b[39mconcatenate((labels_p1_1, labels_p1_2, labels_p2_1, labels_p2_2), axis\u001b[38;5;241m=\u001b[39m\u001b[38;5;241m0\u001b[39m)\n\u001b[0;32m      5\u001b[0m \u001b[38;5;66;03m# Split into train, test, and validation sets\u001b[39;00m\n\u001b[1;32m----> 6\u001b[0m train_loader, test_loader, val_loader \u001b[38;5;241m=\u001b[39m \u001b[43msplit_batch\u001b[49m\u001b[43m(\u001b[49m\u001b[43mfeatures\u001b[49m\u001b[43m,\u001b[49m\u001b[43m \u001b[49m\u001b[43mlabels\u001b[49m\u001b[43m,\u001b[49m\u001b[43m \u001b[49m\u001b[43mbatch_size\u001b[49m\u001b[38;5;241;43m=\u001b[39;49m\u001b[38;5;241;43m64\u001b[39;49m\u001b[43m)\u001b[49m\n",
      "\u001b[1;31mTypeError\u001b[0m: split_batch() got multiple values for argument 'batch_size'"
     ]
    }
   ],
   "source": [
    "# Split into train, test, and validation sets\n",
    "train_loader, test_loader, val_loader = split_batch(features, labels, batch_size=64)"
   ]
  },
  {
   "cell_type": "code",
   "execution_count": null,
   "metadata": {},
   "outputs": [],
   "source": [
    "model = QuickDrawCNN_V2().to(device)\n",
    "criterion = torch.nn.CrossEntropyLoss()\n",
    "optimizer = torch.optim.Adam(model.parameters(), lr=0.001)"
   ]
  },
  {
   "cell_type": "code",
   "execution_count": null,
   "metadata": {},
   "outputs": [],
   "source": [
    "train_loss, val_loss, train_acc, val_acc = train(model = model,\n",
    "                                                  train_loader = train_loader,\n",
    "                                                  val_loader = val_loader,\n",
    "                                                  epochs = 10,\n",
    "                                                  criterion = criterion,\n",
    "                                                  optimizer = optimizer,\n",
    "                                                  device = device)   "
   ]
  },
  {
   "cell_type": "code",
   "execution_count": null,
   "metadata": {},
   "outputs": [],
   "source": [
    "save_path = \"models/quickdraw_cnn_v2.pth\"\n",
    "torch.save(model.state_dict(), save_path)\n",
    "print(f\"Model saved to {save_path}.\")"
   ]
  },
  {
   "cell_type": "code",
   "execution_count": null,
   "metadata": {},
   "outputs": [],
   "source": [
    "with open(\"models/labels_map.pkl\", \"wb\") as f:\n",
    "    pickle.dump(labels_map, f)\n",
    "    pickle.dump(train_loss, f)\n",
    "    pickle.dump(val_loss, f)\n",
    "    pickle.dump(train_acc, f)\n",
    "    pickle.dump(val_acc, f)"
   ]
  }
 ],
 "metadata": {
  "kernelspec": {
   "display_name": "Python 3",
   "language": "python",
   "name": "python3"
  },
  "language_info": {
   "codemirror_mode": {
    "name": "ipython",
    "version": 3
   },
   "file_extension": ".py",
   "mimetype": "text/x-python",
   "name": "python",
   "nbconvert_exporter": "python",
   "pygments_lexer": "ipython3",
   "version": "3.12.8"
  }
 },
 "nbformat": 4,
 "nbformat_minor": 2
}
