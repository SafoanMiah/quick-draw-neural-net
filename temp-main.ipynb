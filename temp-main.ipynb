{
 "cells": [
  {
   "cell_type": "markdown",
   "metadata": {},
   "source": [
    "### Temp - Will be convereted into main.py once complete\n",
    "Currently being used for testing"
   ]
  },
  {
   "cell_type": "code",
   "execution_count": 40,
   "metadata": {},
   "outputs": [],
   "source": [
    "import torch\n",
    "import pickle\n",
    "import os\n",
    "import numpy as np\n",
    "\n",
    "from data.process_data import load_data, augment_data, preprocess_data, to_tensors, split_batch\n",
    "from models.quickdraw_cnn import QuickDrawCNN_V1, QuickDrawCNN_V2\n",
    "from training.model_train import train"
   ]
  },
  {
   "cell_type": "code",
   "execution_count": 41,
   "metadata": {},
   "outputs": [
    {
     "name": "stdout",
     "output_type": "stream",
     "text": [
      "Device: cuda\n"
     ]
    }
   ],
   "source": [
    "device = torch.device(\"cuda\" if torch.cuda.is_available() else \"cpu\")\n",
    "print(f\"Device: {device}\")\n",
    "image_dir = \"data/numpy_bitmap/\""
   ]
  },
  {
   "cell_type": "code",
   "execution_count": 42,
   "metadata": {},
   "outputs": [],
   "source": [
    "categories = os.listdir(image_dir)\n",
    "p1, p2 = categories[:len(categories)//2], categories[len(categories)//2:]"
   ]
  },
  {
   "cell_type": "code",
   "execution_count": 43,
   "metadata": {},
   "outputs": [
    {
     "name": "stdout",
     "output_type": "stream",
     "text": [
      "Loading 172 categories...\n"
     ]
    },
    {
     "name": "stderr",
     "output_type": "stream",
     "text": [
      "Loading data: 100%|██████████| 2/2 [00:00<00:00, 46.14it/s]\n"
     ]
    },
    {
     "name": "stdout",
     "output_type": "stream",
     "text": [
      "Data loaded, size: (249646, 784)\n",
      "Loading 173 categories...\n"
     ]
    },
    {
     "name": "stderr",
     "output_type": "stream",
     "text": [
      "Loading data: 100%|██████████| 2/2 [00:00<00:00, 48.93it/s]"
     ]
    },
    {
     "name": "stdout",
     "output_type": "stream",
     "text": [
      "Data loaded, size: (281931, 784)\n"
     ]
    },
    {
     "name": "stderr",
     "output_type": "stream",
     "text": [
      "\n"
     ]
    }
   ],
   "source": [
    "features_p1, labels_p1 = load_data(p1, image_dir, file_standardize=False, sample=2)\n",
    "features_p2, labels_p2 = load_data(p2, image_dir, file_standardize=False, sample=2)"
   ]
  },
  {
   "cell_type": "code",
   "execution_count": 45,
   "metadata": {},
   "outputs": [
    {
     "name": "stdout",
     "output_type": "stream",
     "text": [
      "Preprocessing 2 images...\n"
     ]
    },
    {
     "name": "stderr",
     "output_type": "stream",
     "text": [
      "Processing labels: 100%|██████████| 2/2 [00:00<?, ?it/s]\n"
     ]
    },
    {
     "name": "stdout",
     "output_type": "stream",
     "text": [
      "Preprocessing 2 images...\n"
     ]
    },
    {
     "name": "stderr",
     "output_type": "stream",
     "text": [
      "Processing labels: 100%|██████████| 2/2 [00:00<?, ?it/s]\n"
     ]
    }
   ],
   "source": [
    "# Preprocessing data split array -> 28x28 numpy\n",
    "features_p1, labels_p1 = preprocess_data(features_p1, labels_p1)\n",
    "features_p2, labels_p2 = preprocess_data(features_p2, labels_p2)"
   ]
  },
  {
   "cell_type": "code",
   "execution_count": 46,
   "metadata": {},
   "outputs": [
    {
     "data": {
      "text/plain": [
       "(['arm', 'bench'], ['peanut', 'grapes'])"
      ]
     },
     "execution_count": 46,
     "metadata": {},
     "output_type": "execute_result"
    }
   ],
   "source": [
    "##################################\n",
    "labels_p1, labels_p2"
   ]
  },
  {
   "cell_type": "code",
   "execution_count": 47,
   "metadata": {},
   "outputs": [
    {
     "name": "stdout",
     "output_type": "stream",
     "text": [
      "Converting 2 images to tensors...\n",
      "Features shape: torch.Size([249646, 1, 28, 28]), Labels shape: torch.Size([2])\n",
      "Converting 2 images to tensors...\n",
      "Features shape: torch.Size([281931, 1, 28, 28]), Labels shape: torch.Size([2])\n"
     ]
    }
   ],
   "source": [
    "#### ERROR –> Since they are run seperately, the labels_map is the same even though its different labels\n",
    "\n",
    "features_p1, labels_p1,  labels_map_p1 = to_tensors(features_p1, labels_p1)\n",
    "features_p2, labels_p2,  labels_map_p2 = to_tensors(features_p2, labels_p2)"
   ]
  },
  {
   "cell_type": "code",
   "execution_count": 48,
   "metadata": {},
   "outputs": [
    {
     "data": {
      "text/plain": [
       "(tensor([0, 1]), tensor([1, 0]))"
      ]
     },
     "execution_count": 48,
     "metadata": {},
     "output_type": "execute_result"
    }
   ],
   "source": [
    "##################################\n",
    "labels_p1, labels_p2"
   ]
  },
  {
   "cell_type": "code",
   "execution_count": 10,
   "metadata": {},
   "outputs": [
    {
     "name": "stdout",
     "output_type": "stream",
     "text": [
      "Starting size: (181426, 1, 28, 28)\n",
      "Rotating images by 15 degrees...\n"
     ]
    },
    {
     "name": "stderr",
     "output_type": "stream",
     "text": [
      "Rotating images...: 100%|██████████| 181426/181426 [00:41<00:00, 4420.49it/s]\n"
     ]
    },
    {
     "name": "stdout",
     "output_type": "stream",
     "text": [
      "Augmented size: \n",
      "Starting size: (181427, 1, 28, 28)\n",
      "Rotating images by 15 degrees...\n"
     ]
    },
    {
     "name": "stderr",
     "output_type": "stream",
     "text": [
      "Rotating images...: 100%|██████████| 181427/181427 [00:41<00:00, 4392.35it/s]\n"
     ]
    },
    {
     "name": "stdout",
     "output_type": "stream",
     "text": [
      "Augmented size: \n",
      "Starting size: torch.Size([60475, 1, 28, 28])\n",
      "Rotating images by 15 degrees...\n"
     ]
    },
    {
     "name": "stderr",
     "output_type": "stream",
     "text": [
      "Rotating images...: 100%|██████████| 60475/60475 [00:14<00:00, 4260.03it/s]\n"
     ]
    },
    {
     "name": "stdout",
     "output_type": "stream",
     "text": [
      "Augmented size: \n",
      "Starting size: torch.Size([60476, 1, 28, 28])\n",
      "Rotating images by 15 degrees...\n"
     ]
    },
    {
     "name": "stderr",
     "output_type": "stream",
     "text": [
      "Rotating images...: 100%|██████████| 60476/60476 [00:14<00:00, 4270.55it/s]\n"
     ]
    },
    {
     "name": "stdout",
     "output_type": "stream",
     "text": [
      "Augmented size: \n"
     ]
    }
   ],
   "source": [
    "# Split further\n",
    "features_p1_1, features_p1_2 = features_p1[:len(features_p1) // 2], features_p1[len(features_p1) // 2:]\n",
    "labels_p1_1, labels_p1_2 = labels_p1[:len(labels_p1) // 2], labels_p1[len(labels_p1) // 2:]\n",
    "features_p2_1, features_p2_2 = features_p2[:len(features_p2) // 2], features_p2[len(features_p2) // 2:]\n",
    "labels_p2_1, labels_p2_2 = labels_p2[:len(labels_p2) // 2], labels_p2[len(labels_p2) // 2:]\n",
    "\n",
    "# Augment data\n",
    "features_p1_1, labels_p1_1 = augment_data(features_p1_1, labels_p1_1, rot=True, angle=15, h_flip=False)\n",
    "features_p1_2, labels_p1_2 = augment_data(features_p1_2, labels_p1_2, rot=True, angle=15, h_flip=False)\n",
    "features_p2_1, labels_p2_1 = augment_data(features_p2_1, labels_p2_1, rot=True, angle=15, h_flip=False)\n",
    "features_p2_2, labels_p2_2 = augment_data(features_p2_2, labels_p2_2, rot=True, angle=15, h_flip=False)"
   ]
  },
  {
   "cell_type": "code",
   "execution_count": 15,
   "metadata": {},
   "outputs": [],
   "source": [
    "# Combine features and labels\n",
    "features = np.concatenate((features_p1_1, features_p1_2, features_p2_1, features_p2_2), axis=0)\n",
    "labels = np.concatenate((labels_p1_1, labels_p1_2, labels_p2_1, labels_p2_2), axis=0)"
   ]
  },
  {
   "cell_type": "code",
   "execution_count": 11,
   "metadata": {},
   "outputs": [
    {
     "ename": "TypeError",
     "evalue": "split_batch() got multiple values for argument 'batch_size'",
     "output_type": "error",
     "traceback": [
      "\u001b[1;31m---------------------------------------------------------------------------\u001b[0m",
      "\u001b[1;31mTypeError\u001b[0m                                 Traceback (most recent call last)",
      "Cell \u001b[1;32mIn[11], line 6\u001b[0m\n\u001b[0;32m      3\u001b[0m labels \u001b[38;5;241m=\u001b[39m np\u001b[38;5;241m.\u001b[39mconcatenate((labels_p1_1, labels_p1_2, labels_p2_1, labels_p2_2), axis\u001b[38;5;241m=\u001b[39m\u001b[38;5;241m0\u001b[39m)\n\u001b[0;32m      5\u001b[0m \u001b[38;5;66;03m# Split into train, test, and validation sets\u001b[39;00m\n\u001b[1;32m----> 6\u001b[0m train_loader, test_loader, val_loader \u001b[38;5;241m=\u001b[39m \u001b[43msplit_batch\u001b[49m\u001b[43m(\u001b[49m\u001b[43mfeatures\u001b[49m\u001b[43m,\u001b[49m\u001b[43m \u001b[49m\u001b[43mlabels\u001b[49m\u001b[43m,\u001b[49m\u001b[43m \u001b[49m\u001b[43mbatch_size\u001b[49m\u001b[38;5;241;43m=\u001b[39;49m\u001b[38;5;241;43m64\u001b[39;49m\u001b[43m)\u001b[49m\n",
      "\u001b[1;31mTypeError\u001b[0m: split_batch() got multiple values for argument 'batch_size'"
     ]
    }
   ],
   "source": [
    "\n",
    "\n",
    "# Split into train, test, and validation sets\n",
    "train_loader, test_loader, val_loader = split_batch(features, labels, batch_size=64)"
   ]
  },
  {
   "cell_type": "code",
   "execution_count": null,
   "metadata": {},
   "outputs": [],
   "source": [
    "model = QuickDrawCNN_V2().to(device)\n",
    "criterion = torch.nn.CrossEntropyLoss()\n",
    "optimizer = torch.optim.Adam(model.parameters(), lr=0.001)"
   ]
  },
  {
   "cell_type": "code",
   "execution_count": null,
   "metadata": {},
   "outputs": [],
   "source": [
    "train_loss, val_loss, train_acc, val_acc = train(model = model,\n",
    "                                                  train_loader = train_loader,\n",
    "                                                  val_loader = val_loader,\n",
    "                                                  epochs = 10,\n",
    "                                                  criterion = criterion,\n",
    "                                                  optimizer = optimizer,\n",
    "                                                  device = device)   "
   ]
  },
  {
   "cell_type": "code",
   "execution_count": null,
   "metadata": {},
   "outputs": [],
   "source": [
    "save_path = \"models/quickdraw_cnn_v2.pth\"\n",
    "torch.save(model.state_dict(), save_path)\n",
    "print(f\"Model saved to {save_path}.\")"
   ]
  },
  {
   "cell_type": "code",
   "execution_count": null,
   "metadata": {},
   "outputs": [],
   "source": [
    "with open(\"models/labels_map.pkl\", \"wb\") as f:\n",
    "    pickle.dump(labels_map, f)\n",
    "    pickle.dump(train_loss, f)\n",
    "    pickle.dump(val_loss, f)\n",
    "    pickle.dump(train_acc, f)\n",
    "    pickle.dump(val_acc, f)"
   ]
  }
 ],
 "metadata": {
  "kernelspec": {
   "display_name": "Python 3",
   "language": "python",
   "name": "python3"
  },
  "language_info": {
   "codemirror_mode": {
    "name": "ipython",
    "version": 3
   },
   "file_extension": ".py",
   "mimetype": "text/x-python",
   "name": "python",
   "nbconvert_exporter": "python",
   "pygments_lexer": "ipython3",
   "version": "3.12.8"
  }
 },
 "nbformat": 4,
 "nbformat_minor": 2
}
