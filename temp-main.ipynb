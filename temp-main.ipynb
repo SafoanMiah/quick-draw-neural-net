{
 "cells": [
  {
   "cell_type": "markdown",
   "metadata": {},
   "source": [
    "### Temp - Will be convereted into main.py once complete\n",
    "Currently being used for testing"
   ]
  },
  {
   "cell_type": "code",
   "execution_count": 1,
   "metadata": {},
   "outputs": [],
   "source": [
    "import torch\n",
    "import pickle\n",
    "import os\n",
    "import numpy as np\n",
    "import matplotlib.pyplot as plt\n",
    "from tqdm import tqdm\n",
    "\n",
    "from utils.model_train import train\n",
    "\n",
    "from utils.processing import load_data, augment_data, to_tensors, split_batch, process_data, incremental_save\n",
    "from utils.quickdraw_cnn import QuickDrawCNN_V1, QuickDrawCNN_V2"
   ]
  },
  {
   "cell_type": "code",
   "execution_count": 2,
   "metadata": {},
   "outputs": [
    {
     "name": "stdout",
     "output_type": "stream",
     "text": [
      "Device: cuda\n"
     ]
    }
   ],
   "source": [
    "device = torch.device(\"cuda\" if torch.cuda.is_available() else \"cpu\")\n",
    "print(f\"Device: {device}\")\n",
    "image_dir = \"data/numpy_bitmap/\""
   ]
  },
  {
   "cell_type": "code",
   "execution_count": 3,
   "metadata": {},
   "outputs": [],
   "source": [
    "categories = os.listdir(image_dir)\n",
    "p1, p2 = categories[:len(categories)//2], categories[len(categories)//2:]"
   ]
  },
  {
   "cell_type": "code",
   "execution_count": 4,
   "metadata": {},
   "outputs": [
    {
     "name": "stdout",
     "output_type": "stream",
     "text": [
      "Loading 172 categories...\n"
     ]
    },
    {
     "name": "stderr",
     "output_type": "stream",
     "text": [
      "Loading data: 100%|██████████| 172/172 [07:30<00:00,  2.62s/it]\n"
     ]
    },
    {
     "name": "stdout",
     "output_type": "stream",
     "text": [
      "Data loaded, size: (25234905, 784)\n",
      "Loading 173 categories...\n"
     ]
    },
    {
     "name": "stderr",
     "output_type": "stream",
     "text": [
      "Loading data: 100%|██████████| 173/173 [07:32<00:00,  2.61s/it]\n"
     ]
    },
    {
     "name": "stdout",
     "output_type": "stream",
     "text": [
      "Data loaded, size: (25191361, 784)\n"
     ]
    }
   ],
   "source": [
    "features_p1, labels_p1 = load_data(p1, image_dir, file_standardize=False)\n",
    "features_p2, labels_p2 = load_data(p2, image_dir, file_standardize=False)"
   ]
  },
  {
   "cell_type": "code",
   "execution_count": 9,
   "metadata": {},
   "outputs": [],
   "source": [
    "# features, labels = process_data(features_p1, features_p2, labels_p1, labels_p2, portion=0.2)\n",
    "features_p1 = features_p1.reshape(-1, 28, 28)\n",
    "features_p2 = features_p2.reshape(-1, 28, 28)\n",
    "\n",
    "labels_p1 = [label.split(\".\")[0] for label in labels_p1]\n",
    "labels_p2 = [label.split(\".\")[0] for label in labels_p2]"
   ]
  },
  {
   "cell_type": "code",
   "execution_count": 10,
   "metadata": {},
   "outputs": [],
   "source": [
    "labels = labels_p1 + labels_p2\n",
    "labels_map = {label: i for i, label in enumerate(set(labels))}"
   ]
  },
  {
   "cell_type": "code",
   "execution_count": 12,
   "metadata": {},
   "outputs": [],
   "source": [
    "def to_tensors_split(features: np.array, labels: np.array, device: str = 'cpu', labels_map: dict = None):\n",
    "    '''\n",
    "    Normalize objects convert the features and labels into tensor objects\n",
    "    \n",
    "    args:\n",
    "    - features: numpy array with the features\n",
    "    - labels: numpy array with the labels\n",
    "    - device: device to use\n",
    "    \n",
    "    returns: features, labels\n",
    "    '''\n",
    "    \n",
    "    print(f\"Converting {len(labels)} images to tensors, using {device}...\")\n",
    "            \n",
    "    labels = [labels_map[label] for label in labels] # convert labels to integers\n",
    "    \n",
    "    features = torch.tensor(features).to(device) / 255.0 # normalizing 0-255 -> 0-1\n",
    "    features = features.unsqueeze(1) # adding channel dimension for CNN, 1 channel for grayscale\n",
    "    labels = torch.tensor(labels).to(device)\n",
    "    \n",
    "    print(f\"Features shape: {features.shape}, Labels shape: {labels.shape}\")\n",
    "    \n",
    "    return features, labels"
   ]
  },
  {
   "cell_type": "code",
   "execution_count": null,
   "metadata": {},
   "outputs": [
    {
     "name": "stdout",
     "output_type": "stream",
     "text": [
      "Converting 25234905 images to tensors, using cuda...\n"
     ]
    }
   ],
   "source": [
    "features_p1, labels_p1 = to_tensors_split(features_p1, labels_p1, device, labels_map)\n",
    "features_p2, labels_p2 = to_tensors_split(features_p2, labels_p2, device, labels_map)"
   ]
  },
  {
   "cell_type": "code",
   "execution_count": null,
   "metadata": {},
   "outputs": [
    {
     "name": "stdout",
     "output_type": "stream",
     "text": [
      "Splitting torch.Size([607624, 1, 28, 28]) images into train, test, and validation sets...\n",
      "Train size: 486099 \n",
      "Validation size: 60762 \n",
      "Test size: 60763\n"
     ]
    }
   ],
   "source": [
    "train_loader, test_loader, val_loader = split_batch(features_p1, labels_p1, batch_size=64)"
   ]
  },
  {
   "cell_type": "code",
   "execution_count": 8,
   "metadata": {},
   "outputs": [],
   "source": [
    "model = QuickDrawCNN_V2().to(device)\n",
    "criterion = torch.nn.CrossEntropyLoss()\n",
    "optimizer = torch.optim.Adam(model.parameters(), lr=0.001)"
   ]
  },
  {
   "cell_type": "code",
   "execution_count": 9,
   "metadata": {},
   "outputs": [
    {
     "name": "stdout",
     "output_type": "stream",
     "text": [
      "\n",
      "Epoch 1/10\n"
     ]
    },
    {
     "name": "stderr",
     "output_type": "stream",
     "text": [
      "Training:  10%|█         | 781/7596 [00:02<00:24, 276.88batch/s, acc=89.1, loss=0.31] \n"
     ]
    },
    {
     "ename": "KeyboardInterrupt",
     "evalue": "",
     "output_type": "error",
     "traceback": [
      "\u001b[1;31m---------------------------------------------------------------------------\u001b[0m",
      "\u001b[1;31mKeyboardInterrupt\u001b[0m                         Traceback (most recent call last)",
      "Cell \u001b[1;32mIn[9], line 1\u001b[0m\n\u001b[1;32m----> 1\u001b[0m train_loss, val_loss, train_acc, val_acc \u001b[38;5;241m=\u001b[39m \u001b[43mtrain\u001b[49m\u001b[43m(\u001b[49m\u001b[43mmodel\u001b[49m\u001b[43m \u001b[49m\u001b[38;5;241;43m=\u001b[39;49m\u001b[43m \u001b[49m\u001b[43mmodel\u001b[49m\u001b[43m,\u001b[49m\n\u001b[0;32m      2\u001b[0m \u001b[43m                                                  \u001b[49m\u001b[43mtrain_loader\u001b[49m\u001b[43m \u001b[49m\u001b[38;5;241;43m=\u001b[39;49m\u001b[43m \u001b[49m\u001b[43mtrain_loader\u001b[49m\u001b[43m,\u001b[49m\n\u001b[0;32m      3\u001b[0m \u001b[43m                                                  \u001b[49m\u001b[43mval_loader\u001b[49m\u001b[43m \u001b[49m\u001b[38;5;241;43m=\u001b[39;49m\u001b[43m \u001b[49m\u001b[43mval_loader\u001b[49m\u001b[43m,\u001b[49m\n\u001b[0;32m      4\u001b[0m \u001b[43m                                                  \u001b[49m\u001b[43mepochs\u001b[49m\u001b[43m \u001b[49m\u001b[38;5;241;43m=\u001b[39;49m\u001b[43m \u001b[49m\u001b[38;5;241;43m10\u001b[39;49m\u001b[43m,\u001b[49m\n\u001b[0;32m      5\u001b[0m \u001b[43m                                                  \u001b[49m\u001b[43mcriterion\u001b[49m\u001b[43m \u001b[49m\u001b[38;5;241;43m=\u001b[39;49m\u001b[43m \u001b[49m\u001b[43mcriterion\u001b[49m\u001b[43m,\u001b[49m\n\u001b[0;32m      6\u001b[0m \u001b[43m                                                  \u001b[49m\u001b[43moptimizer\u001b[49m\u001b[43m \u001b[49m\u001b[38;5;241;43m=\u001b[39;49m\u001b[43m \u001b[49m\u001b[43moptimizer\u001b[49m\u001b[43m,\u001b[49m\n\u001b[0;32m      7\u001b[0m \u001b[43m                                                  \u001b[49m\u001b[43mdevice\u001b[49m\u001b[43m \u001b[49m\u001b[38;5;241;43m=\u001b[39;49m\u001b[43m \u001b[49m\u001b[43mdevice\u001b[49m\u001b[43m)\u001b[49m   \n",
      "File \u001b[1;32mf:\\Data Science Projects\\quick_draw\\utils\\model_train.py:67\u001b[0m, in \u001b[0;36mtrain\u001b[1;34m(model, train_loader, val_loader, epochs, criterion, optimizer, device, patience, min_delta)\u001b[0m\n\u001b[0;32m     65\u001b[0m \u001b[38;5;66;03m# calculate loss, acc\u001b[39;00m\n\u001b[0;32m     66\u001b[0m loss \u001b[38;5;241m=\u001b[39m criterion(y_logits, label)\n\u001b[1;32m---> 67\u001b[0m acc \u001b[38;5;241m=\u001b[39m \u001b[43mcalc_accuracy\u001b[49m\u001b[43m(\u001b[49m\u001b[43my_logits\u001b[49m\u001b[43m,\u001b[49m\u001b[43m \u001b[49m\u001b[43mlabel\u001b[49m\u001b[43m)\u001b[49m\n\u001b[0;32m     69\u001b[0m optimizer\u001b[38;5;241m.\u001b[39mzero_grad()  \u001b[38;5;66;03m# zero grad\u001b[39;00m\n\u001b[0;32m     70\u001b[0m loss\u001b[38;5;241m.\u001b[39mbackward()  \u001b[38;5;66;03m# backward pass\u001b[39;00m\n",
      "File \u001b[1;32mf:\\Data Science Projects\\quick_draw\\utils\\model_train.py:6\u001b[0m, in \u001b[0;36mcalc_accuracy\u001b[1;34m(y_pred, y_true)\u001b[0m\n\u001b[0;32m      4\u001b[0m \u001b[38;5;28;01mdef\u001b[39;00m \u001b[38;5;21mcalc_accuracy\u001b[39m(y_pred, y_true):\n\u001b[0;32m      5\u001b[0m     y_pred \u001b[38;5;241m=\u001b[39m y_pred\u001b[38;5;241m.\u001b[39margmax(dim\u001b[38;5;241m=\u001b[39m\u001b[38;5;241m1\u001b[39m)  \u001b[38;5;66;03m# Fing the index of the max value, prediction\u001b[39;00m\n\u001b[1;32m----> 6\u001b[0m     correct \u001b[38;5;241m=\u001b[39m \u001b[43mtorch\u001b[49m\u001b[38;5;241;43m.\u001b[39;49m\u001b[43meq\u001b[49m\u001b[43m(\u001b[49m\u001b[43my_true\u001b[49m\u001b[43m,\u001b[49m\u001b[43m \u001b[49m\u001b[43my_pred\u001b[49m\u001b[43m)\u001b[49m\u001b[38;5;241;43m.\u001b[39;49m\u001b[43msum\u001b[49m\u001b[43m(\u001b[49m\u001b[43m)\u001b[49m\u001b[38;5;241;43m.\u001b[39;49m\u001b[43mitem\u001b[49m\u001b[43m(\u001b[49m\u001b[43m)\u001b[49m \u001b[38;5;66;03m# Compare prediction with true label, get value\u001b[39;00m\n\u001b[0;32m      7\u001b[0m     accuracy \u001b[38;5;241m=\u001b[39m (correct \u001b[38;5;241m/\u001b[39m \u001b[38;5;28mlen\u001b[39m(y_pred)) \u001b[38;5;241m*\u001b[39m \u001b[38;5;241m100\u001b[39m\n\u001b[0;32m      9\u001b[0m     \u001b[38;5;28;01mreturn\u001b[39;00m accuracy\n",
      "\u001b[1;31mKeyboardInterrupt\u001b[0m: "
     ]
    }
   ],
   "source": [
    "train_loss, val_loss, train_acc, val_acc = train(model = model,\n",
    "                                                  train_loader = train_loader,\n",
    "                                                  val_loader = val_loader,\n",
    "                                                  epochs = 10,\n",
    "                                                  criterion = criterion,\n",
    "                                                  optimizer = optimizer,\n",
    "                                                  device = device)   "
   ]
  },
  {
   "cell_type": "code",
   "execution_count": 29,
   "metadata": {},
   "outputs": [
    {
     "name": "stdout",
     "output_type": "stream",
     "text": [
      "Path: saves/vars/qd_cnn_v2.0.pth\n",
      "Saved to saves/model/qd_cnn_v2.0.pth.\n"
     ]
    }
   ],
   "source": [
    "parent_path = 'saves'\n",
    "\n",
    "varaibles_saved = incremental_save(f'{parent_path}/vars/qd_cnn_v2')\n",
    "with open(varaibles_saved, \"wb\") as f:\n",
    "    pickle.dump(labels_map, f)\n",
    "    pickle.dump(train_loss, f)\n",
    "    pickle.dump(val_loss, f)\n",
    "    pickle.dump(train_acc, f)\n",
    "    pickle.dump(val_acc, f)\n",
    "\n",
    "model_saved = incremental_save(f'{parent_path}/model/qd_cnn_v2', data=model)"
   ]
  }
 ],
 "metadata": {
  "kernelspec": {
   "display_name": "Python 3",
   "language": "python",
   "name": "python3"
  },
  "language_info": {
   "codemirror_mode": {
    "name": "ipython",
    "version": 3
   },
   "file_extension": ".py",
   "mimetype": "text/x-python",
   "name": "python",
   "nbconvert_exporter": "python",
   "pygments_lexer": "ipython3",
   "version": "3.12.8"
  }
 },
 "nbformat": 4,
 "nbformat_minor": 2
}
